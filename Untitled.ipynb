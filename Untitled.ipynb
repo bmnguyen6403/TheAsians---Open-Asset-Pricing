{
 "cells": [
  {
   "cell_type": "code",
   "execution_count": 1,
   "id": "b87a7b52-79cf-453c-9934-a63a5bb2af50",
   "metadata": {},
   "outputs": [
    {
     "name": "stderr",
     "output_type": "stream",
     "text": [
      "[NbConvertApp] Converting notebook best_model_10_random_good.ipynb to script\n",
      "[NbConvertApp] Writing 35338 bytes to best_model_10_random_good.py\n"
     ]
    }
   ],
   "source": [
    "!jupyter nbconvert --to script best_model_10_random_good.ipynb"
   ]
  }
 ],
 "metadata": {
  "kernelspec": {
   "display_name": "Python 3 (ipykernel)",
   "language": "python",
   "name": "python3"
  },
  "language_info": {
   "codemirror_mode": {
    "name": "ipython",
    "version": 3
   },
   "file_extension": ".py",
   "mimetype": "text/x-python",
   "name": "python",
   "nbconvert_exporter": "python",
   "pygments_lexer": "ipython3",
   "version": "3.11.5"
  }
 },
 "nbformat": 4,
 "nbformat_minor": 5
}
