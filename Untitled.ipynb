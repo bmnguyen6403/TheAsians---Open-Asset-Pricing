{
 "cells": [
  {
   "cell_type": "code",
   "execution_count": 1,
   "id": "b87a7b52-79cf-453c-9934-a63a5bb2af50",
   "metadata": {},
   "outputs": [
    {
     "name": "stderr",
     "output_type": "stream",
     "text": [
      "[NbConvertApp] Converting notebook best_model_10_random_good.ipynb to script\n",
      "[NbConvertApp] Writing 35338 bytes to best_model_10_random_good.py\n"
     ]
    }
   ],
   "source": [
    "!jupyter nbconvert --to script best_model_10_random_good.ipynb"
   ]
  },
  {
   "cell_type": "code",
   "execution_count": 2,
   "id": "54beeb39-cfa5-4c73-9f2f-e315998ccd4e",
   "metadata": {},
   "outputs": [
    {
     "name": "stdout",
     "output_type": "stream",
     "text": [
      "Collecting lifelines\n",
      "  Obtaining dependency information for lifelines from https://files.pythonhosted.org/packages/14/f7/379e185a75ac8166ac70756d0ba68d9a2b02b555c7fde4983246752396bd/lifelines-0.30.0-py3-none-any.whl.metadata\n",
      "  Downloading lifelines-0.30.0-py3-none-any.whl.metadata (3.2 kB)\n",
      "Requirement already satisfied: numpy>=1.14.0 in c:\\users\\minh nguyen\\anaconda3\\lib\\site-packages (from lifelines) (1.24.3)\n",
      "Requirement already satisfied: scipy>=1.7.0 in c:\\users\\minh nguyen\\anaconda3\\lib\\site-packages (from lifelines) (1.11.1)\n",
      "Requirement already satisfied: pandas>=2.1 in c:\\users\\minh nguyen\\anaconda3\\lib\\site-packages (from lifelines) (2.2.3)\n",
      "Requirement already satisfied: matplotlib>=3.0 in c:\\users\\minh nguyen\\anaconda3\\lib\\site-packages (from lifelines) (3.7.2)\n",
      "Collecting autograd>=1.5 (from lifelines)\n",
      "  Obtaining dependency information for autograd>=1.5 from https://files.pythonhosted.org/packages/6d/90/d13cf396989052cadd8511c1878b0913bbce28eeef5feb95710a92e03076/autograd-1.7.0-py3-none-any.whl.metadata\n",
      "  Downloading autograd-1.7.0-py3-none-any.whl.metadata (7.5 kB)\n",
      "Collecting autograd-gamma>=0.3 (from lifelines)\n",
      "  Downloading autograd-gamma-0.5.0.tar.gz (4.0 kB)\n",
      "  Preparing metadata (setup.py): started\n",
      "  Preparing metadata (setup.py): finished with status 'done'\n",
      "Collecting formulaic>=0.2.2 (from lifelines)\n",
      "  Obtaining dependency information for formulaic>=0.2.2 from https://files.pythonhosted.org/packages/d2/c2/a34097e53efe70a538ae97574ff9e9866e60fc1c792c19da5fd6b56ce7b5/formulaic-1.1.1-py3-none-any.whl.metadata\n",
      "  Downloading formulaic-1.1.1-py3-none-any.whl.metadata (6.9 kB)\n",
      "Collecting interface-meta>=1.2.0 (from formulaic>=0.2.2->lifelines)\n",
      "  Obtaining dependency information for interface-meta>=1.2.0 from https://files.pythonhosted.org/packages/02/3f/a6ec28c88e2d8e54d32598a1e0b5208a4baa72a8e7f6e241beab5731eb9d/interface_meta-1.3.0-py3-none-any.whl.metadata\n",
      "  Downloading interface_meta-1.3.0-py3-none-any.whl.metadata (6.7 kB)\n",
      "Requirement already satisfied: typing-extensions>=4.2.0 in c:\\users\\minh nguyen\\anaconda3\\lib\\site-packages (from formulaic>=0.2.2->lifelines) (4.13.2)\n",
      "Requirement already satisfied: wrapt>=1.0 in c:\\users\\minh nguyen\\anaconda3\\lib\\site-packages (from formulaic>=0.2.2->lifelines) (1.14.1)\n",
      "Requirement already satisfied: contourpy>=1.0.1 in c:\\users\\minh nguyen\\anaconda3\\lib\\site-packages (from matplotlib>=3.0->lifelines) (1.0.5)\n",
      "Requirement already satisfied: cycler>=0.10 in c:\\users\\minh nguyen\\anaconda3\\lib\\site-packages (from matplotlib>=3.0->lifelines) (0.11.0)\n",
      "Requirement already satisfied: fonttools>=4.22.0 in c:\\users\\minh nguyen\\anaconda3\\lib\\site-packages (from matplotlib>=3.0->lifelines) (4.25.0)\n",
      "Requirement already satisfied: kiwisolver>=1.0.1 in c:\\users\\minh nguyen\\anaconda3\\lib\\site-packages (from matplotlib>=3.0->lifelines) (1.4.4)\n",
      "Requirement already satisfied: packaging>=20.0 in c:\\users\\minh nguyen\\anaconda3\\lib\\site-packages (from matplotlib>=3.0->lifelines) (23.1)\n",
      "Requirement already satisfied: pillow>=6.2.0 in c:\\users\\minh nguyen\\anaconda3\\lib\\site-packages (from matplotlib>=3.0->lifelines) (9.4.0)\n",
      "Requirement already satisfied: pyparsing<3.1,>=2.3.1 in c:\\users\\minh nguyen\\anaconda3\\lib\\site-packages (from matplotlib>=3.0->lifelines) (3.0.9)\n",
      "Requirement already satisfied: python-dateutil>=2.7 in c:\\users\\minh nguyen\\anaconda3\\lib\\site-packages (from matplotlib>=3.0->lifelines) (2.8.2)\n",
      "Requirement already satisfied: pytz>=2020.1 in c:\\users\\minh nguyen\\anaconda3\\lib\\site-packages (from pandas>=2.1->lifelines) (2023.3.post1)\n",
      "Requirement already satisfied: tzdata>=2022.7 in c:\\users\\minh nguyen\\anaconda3\\lib\\site-packages (from pandas>=2.1->lifelines) (2023.3)\n",
      "Requirement already satisfied: six>=1.5 in c:\\users\\minh nguyen\\anaconda3\\lib\\site-packages (from python-dateutil>=2.7->matplotlib>=3.0->lifelines) (1.16.0)\n",
      "Downloading lifelines-0.30.0-py3-none-any.whl (349 kB)\n",
      "   ---------------------------------------- 0.0/349.3 kB ? eta -:--:--\n",
      "   ---------------- ----------------------- 143.4/349.3 kB 8.3 MB/s eta 0:00:01\n",
      "   ---------------------------------------- 349.3/349.3 kB 4.3 MB/s eta 0:00:00\n",
      "Downloading autograd-1.7.0-py3-none-any.whl (52 kB)\n",
      "   ---------------------------------------- 0.0/52.5 kB ? eta -:--:--\n",
      "   ------------------------------- -------- 41.0/52.5 kB 960.0 kB/s eta 0:00:01\n",
      "   ---------------------------------------- 52.5/52.5 kB 671.1 kB/s eta 0:00:00\n",
      "Downloading formulaic-1.1.1-py3-none-any.whl (115 kB)\n",
      "   ---------------------------------------- 0.0/115.7 kB ? eta -:--:--\n",
      "   ---------------------------------------- 115.7/115.7 kB 3.4 MB/s eta 0:00:00\n",
      "Downloading interface_meta-1.3.0-py3-none-any.whl (14 kB)\n",
      "Building wheels for collected packages: autograd-gamma\n",
      "  Building wheel for autograd-gamma (setup.py): started\n",
      "  Building wheel for autograd-gamma (setup.py): finished with status 'done'\n",
      "  Created wheel for autograd-gamma: filename=autograd_gamma-0.5.0-py3-none-any.whl size=4049 sha256=19991dccf808d0d51db115bd6c3b0b28ad7d83b1a81b4ab5ec227299686d8ca7\n",
      "  Stored in directory: c:\\users\\minh nguyen\\appdata\\local\\pip\\cache\\wheels\\8b\\67\\f4\\2caaae2146198dcb824f31a303833b07b14a5ec863fb3acd7b\n",
      "Successfully built autograd-gamma\n",
      "Installing collected packages: interface-meta, autograd, autograd-gamma, formulaic, lifelines\n",
      "Successfully installed autograd-1.7.0 autograd-gamma-0.5.0 formulaic-1.1.1 interface-meta-1.3.0 lifelines-0.30.0\n"
     ]
    }
   ],
   "source": [
    "!pip install lifelines"
   ]
  }
 ],
 "metadata": {
  "kernelspec": {
   "display_name": "Python 3 (ipykernel)",
   "language": "python",
   "name": "python3"
  },
  "language_info": {
   "codemirror_mode": {
    "name": "ipython",
    "version": 3
   },
   "file_extension": ".py",
   "mimetype": "text/x-python",
   "name": "python",
   "nbconvert_exporter": "python",
   "pygments_lexer": "ipython3",
   "version": "3.11.5"
  }
 },
 "nbformat": 4,
 "nbformat_minor": 5
}
