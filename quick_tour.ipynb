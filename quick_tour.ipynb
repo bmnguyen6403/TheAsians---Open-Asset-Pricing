{
 "cells": [
  {
   "cell_type": "markdown",
   "metadata": {},
   "source": [
    "# Quick Tour\n",
    "\n",
    "How to get around the CZ dataset using **openassetpricing**."
   ]
  },
  {
   "cell_type": "markdown",
   "metadata": {},
   "source": [
    "**Installation instructions**\n",
    "\n",
    "To install the package directly from within a notebook, you can use one of the following commands.\n",
    "\n",
    "- Recommended Method:  \n",
    "\n",
    "    Use the `%pip` magic command, which ensures the package is installed in the correct environment.\n",
    "\n",
    "```\n",
    "%pip install openassetpricing\n",
    "```\n",
    "\n",
    "- Alternative Method\n",
    "\n",
    "    You can also use the `!pip` command, although `%pip` is preferred in recent Jupyter versions.\n",
    "\n",
    "```\n",
    "!pip install openassetpricing\n",
    "```\n",
    "\n",
    "Once the package is installed, please restart the kernel to ensure the changes take effect and the package is available for use."
   ]
  },
  {
   "cell_type": "markdown",
   "metadata": {},
   "source": [
    "**Please uncomment the line you want to use**"
   ]
  },
  {
   "cell_type": "code",
   "execution_count": 1,
   "metadata": {},
   "outputs": [
    {
     "name": "stdout",
     "output_type": "stream",
     "text": [
      "Collecting openassetpricing\n",
      "  Using cached openassetpricing-0.0.1-py3-none-any.whl.metadata (368 bytes)\n",
      "Requirement already satisfied: polars in c:\\users\\asus\\anaconda3\\lib\\site-packages (from openassetpricing) (1.26.0)\n",
      "Requirement already satisfied: pandas in c:\\users\\asus\\anaconda3\\lib\\site-packages (from openassetpricing) (2.2.3)\n",
      "Requirement already satisfied: requests in c:\\users\\asus\\anaconda3\\lib\\site-packages (from openassetpricing) (2.32.3)\n",
      "Requirement already satisfied: tabulate in c:\\users\\asus\\anaconda3\\lib\\site-packages (from openassetpricing) (0.9.0)\n",
      "Collecting wrds (from openassetpricing)\n",
      "  Using cached wrds-3.3.0-py3-none-any.whl.metadata (5.7 kB)\n",
      "Requirement already satisfied: pyarrow in c:\\users\\asus\\anaconda3\\lib\\site-packages (from openassetpricing) (19.0.0)\n",
      "Requirement already satisfied: beautifulsoup4 in c:\\users\\asus\\anaconda3\\lib\\site-packages (from openassetpricing) (4.12.3)\n",
      "Requirement already satisfied: soupsieve>1.2 in c:\\users\\asus\\anaconda3\\lib\\site-packages (from beautifulsoup4->openassetpricing) (2.5)\n",
      "Requirement already satisfied: numpy>=1.26.0 in c:\\users\\asus\\anaconda3\\lib\\site-packages (from pandas->openassetpricing) (1.26.4)\n",
      "Requirement already satisfied: python-dateutil>=2.8.2 in c:\\users\\asus\\anaconda3\\lib\\site-packages (from pandas->openassetpricing) (2.9.0.post0)\n",
      "Requirement already satisfied: pytz>=2020.1 in c:\\users\\asus\\anaconda3\\lib\\site-packages (from pandas->openassetpricing) (2024.1)\n",
      "Requirement already satisfied: tzdata>=2022.7 in c:\\users\\asus\\anaconda3\\lib\\site-packages (from pandas->openassetpricing) (2023.3)\n",
      "Requirement already satisfied: charset-normalizer<4,>=2 in c:\\users\\asus\\anaconda3\\lib\\site-packages (from requests->openassetpricing) (3.3.2)\n",
      "Requirement already satisfied: idna<4,>=2.5 in c:\\users\\asus\\anaconda3\\lib\\site-packages (from requests->openassetpricing) (3.7)\n",
      "Requirement already satisfied: urllib3<3,>=1.21.1 in c:\\users\\asus\\anaconda3\\lib\\site-packages (from requests->openassetpricing) (2.3.0)\n",
      "Requirement already satisfied: certifi>=2017.4.17 in c:\\users\\asus\\anaconda3\\lib\\site-packages (from requests->openassetpricing) (2025.1.31)\n",
      "Requirement already satisfied: packaging<=24.2 in c:\\users\\asus\\anaconda3\\lib\\site-packages (from wrds->openassetpricing) (24.2)\n",
      "Collecting psycopg2-binary<2.10,>=2.9 (from wrds->openassetpricing)\n",
      "  Using cached psycopg2_binary-2.9.10-cp312-cp312-win_amd64.whl.metadata (5.0 kB)\n",
      "Requirement already satisfied: sqlalchemy<2.1,>=2 in c:\\users\\asus\\anaconda3\\lib\\site-packages (from wrds->openassetpricing) (2.0.37)\n",
      "Requirement already satisfied: six>=1.5 in c:\\users\\asus\\anaconda3\\lib\\site-packages (from python-dateutil>=2.8.2->pandas->openassetpricing) (1.16.0)\n",
      "Requirement already satisfied: typing-extensions>=4.6.0 in c:\\users\\asus\\anaconda3\\lib\\site-packages (from sqlalchemy<2.1,>=2->wrds->openassetpricing) (4.12.2)\n",
      "Requirement already satisfied: greenlet!=0.4.17 in c:\\users\\asus\\anaconda3\\lib\\site-packages (from sqlalchemy<2.1,>=2->wrds->openassetpricing) (3.1.1)\n",
      "Using cached openassetpricing-0.0.1-py3-none-any.whl (8.6 kB)\n",
      "Downloading wrds-3.3.0-py3-none-any.whl (13 kB)\n",
      "Downloading psycopg2_binary-2.9.10-cp312-cp312-win_amd64.whl (1.2 MB)\n",
      "   ---------------------------------------- 0.0/1.2 MB ? eta -:--:--\n",
      "   --------------------------- ------------ 0.8/1.2 MB 4.8 MB/s eta 0:00:01\n",
      "   ---------------------------------------- 1.2/1.2 MB 4.1 MB/s eta 0:00:00\n",
      "Installing collected packages: psycopg2-binary, wrds, openassetpricing\n",
      "Successfully installed openassetpricing-0.0.1 psycopg2-binary-2.9.10 wrds-3.3.0\n"
     ]
    }
   ],
   "source": [
    "# %pip install openassetpricing\n",
    "!pip install openassetpricing\n"
   ]
  },
  {
   "cell_type": "code",
   "execution_count": 2,
   "metadata": {},
   "outputs": [],
   "source": [
    "# Set up environment\n",
    "import pandas as pd\n",
    "import numpy as np\n",
    "import openassetpricing as oap\n",
    "import statsmodels.formula.api as smf\n",
    "\n",
    "\n",
    "# Initialize OpenAP using the 2024 data release \n",
    "openap = oap.OpenAP()"
   ]
  },
  {
   "cell_type": "code",
   "execution_count": 16,
   "metadata": {},
   "outputs": [],
   "source": [
    "pd.options.display.max_columns = 100"
   ]
  },
  {
   "cell_type": "markdown",
   "metadata": {},
   "source": [
    "# Navigating Signal Doc\n",
    "\n",
    "The CZ dataset is organized around \"signals.\" Each signal is described in the signal doc, which can be downloaded using `openap.dl_signal_doc(\"pandas\")`. "
   ]
  },
  {
   "cell_type": "code",
   "execution_count": 13,
   "metadata": {},
   "outputs": [],
   "source": [
    "# Download signal doc\n",
    "signaldoc = openap.dl_signal_doc(\"pandas\")\n",
    "\n",
    "# show a few rows\n",
    "signaldoc.head(3)\n",
    "signaldoc.to_csv(\"signaldoc.csv\", index = False)"
   ]
  },
  {
   "cell_type": "code",
   "execution_count": 17,
   "metadata": {},
   "outputs": [
    {
     "data": {
      "text/html": [
       "<div>\n",
       "<style scoped>\n",
       "    .dataframe tbody tr th:only-of-type {\n",
       "        vertical-align: middle;\n",
       "    }\n",
       "\n",
       "    .dataframe tbody tr th {\n",
       "        vertical-align: top;\n",
       "    }\n",
       "\n",
       "    .dataframe thead th {\n",
       "        text-align: right;\n",
       "    }\n",
       "</style>\n",
       "<table border=\"1\" class=\"dataframe\">\n",
       "  <thead>\n",
       "    <tr style=\"text-align: right;\">\n",
       "      <th></th>\n",
       "      <th>Acronym</th>\n",
       "      <th>Cat.Signal</th>\n",
       "      <th>Predictability in OP</th>\n",
       "      <th>Signal Rep Quality</th>\n",
       "      <th>Authors</th>\n",
       "      <th>Year</th>\n",
       "      <th>LongDescription</th>\n",
       "      <th>Journal</th>\n",
       "      <th>Cat.Form</th>\n",
       "      <th>Cat.Data</th>\n",
       "      <th>Cat.Economic</th>\n",
       "      <th>SampleStartYear</th>\n",
       "      <th>SampleEndYear</th>\n",
       "      <th>Acronym2</th>\n",
       "      <th>Evidence Summary</th>\n",
       "      <th>Key Table in OP</th>\n",
       "      <th>Test in OP</th>\n",
       "      <th>Sign</th>\n",
       "      <th>Return</th>\n",
       "      <th>T-Stat</th>\n",
       "      <th>Stock Weight</th>\n",
       "      <th>LS Quantile</th>\n",
       "      <th>Quantile Filter</th>\n",
       "      <th>Portfolio Period</th>\n",
       "      <th>Start Month</th>\n",
       "      <th>Filter</th>\n",
       "      <th>Notes</th>\n",
       "      <th>Detailed Definition</th>\n",
       "    </tr>\n",
       "  </thead>\n",
       "  <tbody>\n",
       "    <tr>\n",
       "      <th>0</th>\n",
       "      <td>AbnormalAccruals</td>\n",
       "      <td>Predictor</td>\n",
       "      <td>1_clear</td>\n",
       "      <td>2_fair</td>\n",
       "      <td>Xie</td>\n",
       "      <td>2001</td>\n",
       "      <td>Abnormal Accruals</td>\n",
       "      <td>AR</td>\n",
       "      <td>continuous</td>\n",
       "      <td>Accounting</td>\n",
       "      <td>accruals</td>\n",
       "      <td>1971</td>\n",
       "      <td>1992</td>\n",
       "      <td>AccrAbn</td>\n",
       "      <td>t=8 port sort w/ nonstandard data lag</td>\n",
       "      <td>3</td>\n",
       "      <td>port sort size adjusted nonstandard</td>\n",
       "      <td>-1</td>\n",
       "      <td>0.916666667</td>\n",
       "      <td>8.43</td>\n",
       "      <td>EW</td>\n",
       "      <td>0.1</td>\n",
       "      <td>NA</td>\n",
       "      <td>12</td>\n",
       "      <td>6</td>\n",
       "      <td>NA</td>\n",
       "      <td>OP is aggressive and lags accounting data by o...</td>\n",
       "      <td>Define Accruals as net income (ib) minus opera...</td>\n",
       "    </tr>\n",
       "    <tr>\n",
       "      <th>1</th>\n",
       "      <td>Accruals</td>\n",
       "      <td>Predictor</td>\n",
       "      <td>1_clear</td>\n",
       "      <td>1_good</td>\n",
       "      <td>Sloan</td>\n",
       "      <td>1996</td>\n",
       "      <td>Accruals</td>\n",
       "      <td>AR</td>\n",
       "      <td>continuous</td>\n",
       "      <td>Accounting</td>\n",
       "      <td>accruals</td>\n",
       "      <td>1962</td>\n",
       "      <td>1991</td>\n",
       "      <td>Accruals</td>\n",
       "      <td>t &gt; 4 in port sort CAPM alpha 12 month holding</td>\n",
       "      <td>6 year t+1</td>\n",
       "      <td>port sort size adjusted</td>\n",
       "      <td>-1</td>\n",
       "      <td>0.866666667</td>\n",
       "      <td>4.71</td>\n",
       "      <td>EW</td>\n",
       "      <td>0.1</td>\n",
       "      <td>NA</td>\n",
       "      <td>12</td>\n",
       "      <td>6</td>\n",
       "      <td>abs(prc)&gt;5</td>\n",
       "      <td>Table 6 year t+1 hedge.  Only size adjusted an...</td>\n",
       "      <td>Annual change in current total assets (act) mi...</td>\n",
       "    </tr>\n",
       "    <tr>\n",
       "      <th>2</th>\n",
       "      <td>AccrualsBM</td>\n",
       "      <td>Predictor</td>\n",
       "      <td>1_clear</td>\n",
       "      <td>1_good</td>\n",
       "      <td>Bartov and Kim</td>\n",
       "      <td>2004</td>\n",
       "      <td>Book-to-market and accruals</td>\n",
       "      <td>RFQA</td>\n",
       "      <td>discrete</td>\n",
       "      <td>Accounting</td>\n",
       "      <td>valuation</td>\n",
       "      <td>1980</td>\n",
       "      <td>1998</td>\n",
       "      <td>AccrualsBM</td>\n",
       "      <td>t=5.5 in long-short</td>\n",
       "      <td>3 mean diff 1-2</td>\n",
       "      <td>LS port</td>\n",
       "      <td>1</td>\n",
       "      <td>0.206</td>\n",
       "      <td>5.5</td>\n",
       "      <td>EW</td>\n",
       "      <td>0.2</td>\n",
       "      <td>NA</td>\n",
       "      <td>12</td>\n",
       "      <td>6</td>\n",
       "      <td>NA</td>\n",
       "      <td>NA</td>\n",
       "      <td>Binary variable equal to 1 if stock is in the ...</td>\n",
       "    </tr>\n",
       "  </tbody>\n",
       "</table>\n",
       "</div>"
      ],
      "text/plain": [
       "            Acronym Cat.Signal Predictability in OP Signal Rep Quality  \\\n",
       "0  AbnormalAccruals  Predictor              1_clear             2_fair   \n",
       "1          Accruals  Predictor              1_clear             1_good   \n",
       "2        AccrualsBM  Predictor              1_clear             1_good   \n",
       "\n",
       "          Authors  Year              LongDescription Journal    Cat.Form  \\\n",
       "0             Xie  2001            Abnormal Accruals      AR  continuous   \n",
       "1           Sloan  1996                     Accruals      AR  continuous   \n",
       "2  Bartov and Kim  2004  Book-to-market and accruals    RFQA    discrete   \n",
       "\n",
       "     Cat.Data Cat.Economic  SampleStartYear  SampleEndYear    Acronym2  \\\n",
       "0  Accounting     accruals             1971           1992     AccrAbn   \n",
       "1  Accounting     accruals             1962           1991    Accruals   \n",
       "2  Accounting    valuation             1980           1998  AccrualsBM   \n",
       "\n",
       "                                 Evidence Summary  Key Table in OP  \\\n",
       "0           t=8 port sort w/ nonstandard data lag                3   \n",
       "1  t > 4 in port sort CAPM alpha 12 month holding       6 year t+1   \n",
       "2                             t=5.5 in long-short  3 mean diff 1-2   \n",
       "\n",
       "                            Test in OP Sign       Return T-Stat Stock Weight  \\\n",
       "0  port sort size adjusted nonstandard   -1  0.916666667   8.43           EW   \n",
       "1              port sort size adjusted   -1  0.866666667   4.71           EW   \n",
       "2                              LS port    1        0.206    5.5           EW   \n",
       "\n",
       "  LS Quantile Quantile Filter Portfolio Period Start Month      Filter  \\\n",
       "0         0.1              NA               12           6          NA   \n",
       "1         0.1              NA               12           6  abs(prc)>5   \n",
       "2         0.2              NA               12           6          NA   \n",
       "\n",
       "                                               Notes  \\\n",
       "0  OP is aggressive and lags accounting data by o...   \n",
       "1  Table 6 year t+1 hedge.  Only size adjusted an...   \n",
       "2                                                 NA   \n",
       "\n",
       "                                 Detailed Definition  \n",
       "0  Define Accruals as net income (ib) minus opera...  \n",
       "1  Annual change in current total assets (act) mi...  \n",
       "2  Binary variable equal to 1 if stock is in the ...  "
      ]
     },
     "execution_count": 17,
     "metadata": {},
     "output_type": "execute_result"
    }
   ],
   "source": [
    "signaldoc.head(3)"
   ]
  },
  {
   "cell_type": "markdown",
   "metadata": {},
   "source": [
    "Let's take a closer look at the `AssetGrowth` predictor. `signaldoc` has lots of info about this predictor. It provides the key table demonstrating predictability, as well as a summary of the evidence for predictability."
   ]
  },
  {
   "cell_type": "code",
   "execution_count": 4,
   "metadata": {},
   "outputs": [
    {
     "data": {
      "text/html": [
       "<div>\n",
       "<style scoped>\n",
       "    .dataframe tbody tr th:only-of-type {\n",
       "        vertical-align: middle;\n",
       "    }\n",
       "\n",
       "    .dataframe tbody tr th {\n",
       "        vertical-align: top;\n",
       "    }\n",
       "\n",
       "    .dataframe thead th {\n",
       "        text-align: right;\n",
       "    }\n",
       "</style>\n",
       "<table border=\"1\" class=\"dataframe\">\n",
       "  <thead>\n",
       "    <tr style=\"text-align: right;\">\n",
       "      <th></th>\n",
       "      <th>7</th>\n",
       "    </tr>\n",
       "  </thead>\n",
       "  <tbody>\n",
       "    <tr>\n",
       "      <th>Acronym</th>\n",
       "      <td>AssetGrowth</td>\n",
       "    </tr>\n",
       "    <tr>\n",
       "      <th>Cat.Signal</th>\n",
       "      <td>Predictor</td>\n",
       "    </tr>\n",
       "    <tr>\n",
       "      <th>Predictability in OP</th>\n",
       "      <td>1_clear</td>\n",
       "    </tr>\n",
       "    <tr>\n",
       "      <th>Signal Rep Quality</th>\n",
       "      <td>1_good</td>\n",
       "    </tr>\n",
       "    <tr>\n",
       "      <th>Authors</th>\n",
       "      <td>Cooper, Gulen and Schill</td>\n",
       "    </tr>\n",
       "    <tr>\n",
       "      <th>Year</th>\n",
       "      <td>2008</td>\n",
       "    </tr>\n",
       "    <tr>\n",
       "      <th>LongDescription</th>\n",
       "      <td>Asset growth</td>\n",
       "    </tr>\n",
       "    <tr>\n",
       "      <th>Journal</th>\n",
       "      <td>JF</td>\n",
       "    </tr>\n",
       "    <tr>\n",
       "      <th>Cat.Form</th>\n",
       "      <td>continuous</td>\n",
       "    </tr>\n",
       "    <tr>\n",
       "      <th>Cat.Data</th>\n",
       "      <td>Accounting</td>\n",
       "    </tr>\n",
       "    <tr>\n",
       "      <th>Cat.Economic</th>\n",
       "      <td>investment</td>\n",
       "    </tr>\n",
       "    <tr>\n",
       "      <th>SampleStartYear</th>\n",
       "      <td>1968</td>\n",
       "    </tr>\n",
       "    <tr>\n",
       "      <th>SampleEndYear</th>\n",
       "      <td>2003</td>\n",
       "    </tr>\n",
       "    <tr>\n",
       "      <th>Acronym2</th>\n",
       "      <td>InvestAG</td>\n",
       "    </tr>\n",
       "    <tr>\n",
       "      <th>Evidence Summary</th>\n",
       "      <td>t=8.5 in port sort</td>\n",
       "    </tr>\n",
       "    <tr>\n",
       "      <th>Key Table in OP</th>\n",
       "      <td>2B.1 year 1</td>\n",
       "    </tr>\n",
       "    <tr>\n",
       "      <th>Test in OP</th>\n",
       "      <td>port sort</td>\n",
       "    </tr>\n",
       "    <tr>\n",
       "      <th>Sign</th>\n",
       "      <td>-1</td>\n",
       "    </tr>\n",
       "    <tr>\n",
       "      <th>Return</th>\n",
       "      <td>1.73</td>\n",
       "    </tr>\n",
       "    <tr>\n",
       "      <th>T-Stat</th>\n",
       "      <td>8.45</td>\n",
       "    </tr>\n",
       "    <tr>\n",
       "      <th>Stock Weight</th>\n",
       "      <td>EW</td>\n",
       "    </tr>\n",
       "    <tr>\n",
       "      <th>LS Quantile</th>\n",
       "      <td>0.1</td>\n",
       "    </tr>\n",
       "    <tr>\n",
       "      <th>Quantile Filter</th>\n",
       "      <td>NA</td>\n",
       "    </tr>\n",
       "    <tr>\n",
       "      <th>Portfolio Period</th>\n",
       "      <td>12</td>\n",
       "    </tr>\n",
       "    <tr>\n",
       "      <th>Start Month</th>\n",
       "      <td>6</td>\n",
       "    </tr>\n",
       "    <tr>\n",
       "      <th>Filter</th>\n",
       "      <td>NA</td>\n",
       "    </tr>\n",
       "    <tr>\n",
       "      <th>Notes</th>\n",
       "      <td>Also works VW (t=5, Tab2.B.2)</td>\n",
       "    </tr>\n",
       "    <tr>\n",
       "      <th>Detailed Definition</th>\n",
       "      <td>Annual growth rate of total assets (at)</td>\n",
       "    </tr>\n",
       "  </tbody>\n",
       "</table>\n",
       "</div>"
      ],
      "text/plain": [
       "                                                            7\n",
       "Acronym                                           AssetGrowth\n",
       "Cat.Signal                                          Predictor\n",
       "Predictability in OP                                  1_clear\n",
       "Signal Rep Quality                                     1_good\n",
       "Authors                              Cooper, Gulen and Schill\n",
       "Year                                                     2008\n",
       "LongDescription                                  Asset growth\n",
       "Journal                                                    JF\n",
       "Cat.Form                                           continuous\n",
       "Cat.Data                                           Accounting\n",
       "Cat.Economic                                       investment\n",
       "SampleStartYear                                          1968\n",
       "SampleEndYear                                            2003\n",
       "Acronym2                                             InvestAG\n",
       "Evidence Summary                           t=8.5 in port sort\n",
       "Key Table in OP                                   2B.1 year 1\n",
       "Test in OP                                          port sort\n",
       "Sign                                                       -1\n",
       "Return                                                   1.73\n",
       "T-Stat                                                   8.45\n",
       "Stock Weight                                               EW\n",
       "LS Quantile                                               0.1\n",
       "Quantile Filter                                            NA\n",
       "Portfolio Period                                           12\n",
       "Start Month                                                 6\n",
       "Filter                                                     NA\n",
       "Notes                           Also works VW (t=5, Tab2.B.2)\n",
       "Detailed Definition   Annual growth rate of total assets (at)"
      ]
     },
     "execution_count": 4,
     "metadata": {},
     "output_type": "execute_result"
    }
   ],
   "source": [
    "# show what signaldoc tells us about AssetGrowth\n",
    "signaldoc[signaldoc[\"Acronym\"]==\"AssetGrowth\"].T"
   ]
  },
  {
   "cell_type": "markdown",
   "metadata": {},
   "source": [
    "# Navigating Portfolio Returns\n",
    "\n",
    "For a given signal, there are many ways to implement portfolios. The CZ replication paper focuses on the \"Original Paper\" (op) implementations. These follow the \"Key Table in OP\" as found in `signaldoc`.\n",
    "\n",
    "We saw above that AssetGrowth has an enormous t-stat of 8.5. Let's see how well the CZ replication matches this result, using the \"op\" implementation."
   ]
  },
  {
   "cell_type": "code",
   "execution_count": 5,
   "metadata": {},
   "outputs": [
    {
     "name": "stdout",
     "output_type": "stream",
     "text": [
      "\n",
      "Data is downloaded: 26s\n"
     ]
    }
   ],
   "source": [
    "# download original paper (op) portfolios for AssetGrowth\n",
    "port_op = openap.dl_port('op', 'pandas', ['AssetGrowth'])\n",
    "\n"
   ]
  },
  {
   "cell_type": "code",
   "execution_count": 20,
   "metadata": {},
   "outputs": [],
   "source": [
    "port_op\n",
    "port_op.to_csv(\"port_op.csv\", index = False)"
   ]
  },
  {
   "cell_type": "code",
   "execution_count": 6,
   "metadata": {},
   "outputs": [
    {
     "name": "stdout",
     "output_type": "stream",
     "text": [
      "t-stat is  7.644285343661301\n"
     ]
    }
   ],
   "source": [
    "# filter for long-short portfolios in sample\n",
    "longshort_insamp = port_op[\n",
    "    (port_op[\"port\"]=='LS') & (port_op[\"date\"]>='1968-01-01') & (port_op[\"date\"]<='2003-12-31') \n",
    "]\n",
    "\n",
    "# regress ret on constant\n",
    "ols = smf.ols(formula='ret ~ 1', data=longshort_insamp)\n",
    "\n",
    "result = ols.fit()\n",
    "\n",
    "print(\"t-stat is \", result.tvalues[\"Intercept\"])"
   ]
  },
  {
   "cell_type": "markdown",
   "metadata": {},
   "source": [
    "The t-stat of 7.6 is not quite as large as the 8.5 in the original paper, but it is in the same ballpark. "
   ]
  },
  {
   "cell_type": "markdown",
   "metadata": {},
   "source": [
    "Using `signaldoc`, we saw that Cooper et al. focused on equal-weighting, decile-sorts, no special filters, 12-month rebalancing.  \n",
    "\n",
    "How does it perform under other implementations? Let's see what implementations are available in the CZ dataset."
   ]
  },
  {
   "cell_type": "code",
   "execution_count": 7,
   "metadata": {},
   "outputs": [
    {
     "name": "stdout",
     "output_type": "stream",
     "text": [
      "┌─────────────────────────────────────────────────┬─────────────────────┐\n",
      "│ CZ portfolio file                               │ Name for download   │\n",
      "├─────────────────────────────────────────────────┼─────────────────────┤\n",
      "│ PredictorAltPorts_Deciles.zip                   │ deciles_ew          │\n",
      "│ PredictorAltPorts_DecilesVW.zip                 │ deciles_vw          │\n",
      "│ PredictorAltPorts_LiqScreen_ME_gt_NYSE20pct.zip │ ex_nyse_p20_me      │\n",
      "│ PredictorAltPorts_LiqScreen_NYSEonly.zip        │ nyse                │\n",
      "│ PredictorAltPorts_LiqScreen_Price_gt_5.zip      │ ex_price5           │\n",
      "│ PredictorAltPorts_Quintiles.zip                 │ quintiles_ew        │\n",
      "│ PredictorAltPorts_QuintilesVW.zip               │ quintiles_vw        │\n",
      "│ PredictorPortsFull.csv                          │ op                  │\n",
      "└─────────────────────────────────────────────────┴─────────────────────┘\n"
     ]
    }
   ],
   "source": [
    "openap.list_port()"
   ]
  },
  {
   "cell_type": "markdown",
   "metadata": {},
   "source": [
    "There are lots of flavors of portfolio implementations above. Let's check out value-weighted deciles (`deciles_vw`) as well as a filter for market equity > the NYSE 20th percentile (`ex_nyse_p20_me`)"
   ]
  },
  {
   "cell_type": "code",
   "execution_count": 8,
   "metadata": {},
   "outputs": [
    {
     "name": "stdout",
     "output_type": "stream",
     "text": [
      "\n",
      "Data is downloaded: 11s\n",
      "\n",
      "Data is downloaded: 13s\n"
     ]
    }
   ],
   "source": [
    "# download alternative implementations\n",
    "port_vw = openap.dl_port('deciles_vw', 'pandas', ['AssetGrowth'])\n",
    "port_mescreen = openap.dl_port('ex_nyse_p20_me', 'pandas', ['AssetGrowth'])"
   ]
  },
  {
   "cell_type": "code",
   "execution_count": 9,
   "metadata": {},
   "outputs": [
    {
     "name": "stdout",
     "output_type": "stream",
     "text": [
      "op\n",
      "t-stat is  7.644285343661301\n",
      "deciles_vw\n",
      "t-stat is  4.247514977233887\n",
      "ex_nyse_p20_me\n",
      "t-stat is  6.063275712824439\n"
     ]
    }
   ],
   "source": [
    "# append implementations\n",
    "port_all = pd.concat([\n",
    "    port_op.assign(imp='op'),\n",
    "    port_vw.assign(imp='deciles_vw'),\n",
    "    port_mescreen.assign(imp='ex_nyse_p20_me')\n",
    "])\n",
    "\n",
    "# filter for long-short portfolios in sample\n",
    "port_all = port_all[\n",
    "    (port_all[\"port\"]=='LS') & \n",
    "    (port_all[\"date\"]>='1968-01-01') & \n",
    "    (port_all[\"date\"]<='2003-12-31')\n",
    "]   \n",
    "\n",
    "# regress ret on constant by group\n",
    "for imp in port_all[\"imp\"].unique():\n",
    "    print(imp)\n",
    "    longshort_insamp = port_all[port_all[\"imp\"]==imp]\n",
    "    ols = smf.ols(formula='ret ~ 1', data=longshort_insamp)\n",
    "    result = ols.fit()\n",
    "    print(\"t-stat is \", result.tvalues[\"Intercept\"])\n"
   ]
  },
  {
   "cell_type": "markdown",
   "metadata": {},
   "source": [
    "As expected, these liquidity adjustments lead to smaller t-stats. Value-weighting is a much more severe liquidity adjustment compared to removing stocks below the 20th percentile of NYSE market equity."
   ]
  },
  {
   "cell_type": "markdown",
   "metadata": {},
   "source": [
    "You can also download all portfolios using a particular implementation by omitting the signal names."
   ]
  },
  {
   "cell_type": "code",
   "execution_count": 10,
   "metadata": {},
   "outputs": [
    {
     "name": "stdout",
     "output_type": "stream",
     "text": [
      "\n",
      "Data is downloaded: 26s\n",
      "\n",
      "Data is downloaded: 11s\n"
     ]
    }
   ],
   "source": [
    "# download all original paper portfolios\n",
    "allport_op = openap.dl_port('op', 'pandas')\n",
    "\n",
    "# download all decile-value-weighted portfolios\n",
    "allport_vw = openap.dl_port('deciles_vw', 'pandas')"
   ]
  },
  {
   "cell_type": "markdown",
   "metadata": {},
   "source": [
    "# Navigating Signal Data (a.k.a. firm-level characteristics)\n",
    "\n",
    "To download the signal data use `openap.dl_signal()`. \n"
   ]
  },
  {
   "cell_type": "code",
   "execution_count": 11,
   "metadata": {},
   "outputs": [
    {
     "name": "stdout",
     "output_type": "stream",
     "text": [
      "\n",
      "Data is downloaded: 24s\n"
     ]
    },
    {
     "data": {
      "text/html": [
       "<div>\n",
       "<style scoped>\n",
       "    .dataframe tbody tr th:only-of-type {\n",
       "        vertical-align: middle;\n",
       "    }\n",
       "\n",
       "    .dataframe tbody tr th {\n",
       "        vertical-align: top;\n",
       "    }\n",
       "\n",
       "    .dataframe thead th {\n",
       "        text-align: right;\n",
       "    }\n",
       "</style>\n",
       "<table border=\"1\" class=\"dataframe\">\n",
       "  <thead>\n",
       "    <tr style=\"text-align: right;\">\n",
       "      <th></th>\n",
       "      <th>permno</th>\n",
       "      <th>yyyymm</th>\n",
       "      <th>AssetGrowth</th>\n",
       "    </tr>\n",
       "  </thead>\n",
       "  <tbody>\n",
       "    <tr>\n",
       "      <th>0</th>\n",
       "      <td>10001</td>\n",
       "      <td>198712</td>\n",
       "      <td>-0.038474</td>\n",
       "    </tr>\n",
       "    <tr>\n",
       "      <th>1</th>\n",
       "      <td>10001</td>\n",
       "      <td>198801</td>\n",
       "      <td>-0.038474</td>\n",
       "    </tr>\n",
       "    <tr>\n",
       "      <th>2</th>\n",
       "      <td>10001</td>\n",
       "      <td>198802</td>\n",
       "      <td>-0.038474</td>\n",
       "    </tr>\n",
       "    <tr>\n",
       "      <th>3</th>\n",
       "      <td>10001</td>\n",
       "      <td>198803</td>\n",
       "      <td>-0.038474</td>\n",
       "    </tr>\n",
       "    <tr>\n",
       "      <th>4</th>\n",
       "      <td>10001</td>\n",
       "      <td>198804</td>\n",
       "      <td>-0.038474</td>\n",
       "    </tr>\n",
       "  </tbody>\n",
       "</table>\n",
       "</div>"
      ],
      "text/plain": [
       "   permno  yyyymm  AssetGrowth\n",
       "0   10001  198712    -0.038474\n",
       "1   10001  198801    -0.038474\n",
       "2   10001  198802    -0.038474\n",
       "3   10001  198803    -0.038474\n",
       "4   10001  198804    -0.038474"
      ]
     },
     "execution_count": 11,
     "metadata": {},
     "output_type": "execute_result"
    }
   ],
   "source": [
    "# Download AssetGrowth signals\n",
    "signal = openap.dl_signal('pandas', ['AssetGrowth'])\n",
    "\n",
    "\n",
    "signal.head()"
   ]
  },
  {
   "cell_type": "markdown",
   "metadata": {},
   "source": [
    "The first column above means that, in the end of December 1987, permno 10001 had an AssetGrowth signal (firm characteristic) of -0.038. So one can predict permno 10001's return in January 1988, or any month going forward, using this number.\n",
    "\n",
    "Following Fama and French (1992), the CZ data lags annual Compustat variables by 6 months, and then uses the signal for another 12 months. One can see the timing in the Github code here: https://github.com/OpenSourceAP/CrossSection/blob/master/Signals/Code/DataDownloads/B_CompustatAnnual.do"
   ]
  },
  {
   "cell_type": "markdown",
   "metadata": {},
   "source": [
    "One can also download all predictor signals at once. But this requires a lot of ram, can take a few minutes, and also requires a WRDS account. Thus, it is done using a distinct function (`dl_all_signals` instead of `dl_signal`).\n"
   ]
  },
  {
   "cell_type": "code",
   "execution_count": 12,
   "metadata": {},
   "outputs": [
    {
     "ename": "KeyboardInterrupt",
     "evalue": "Interrupted by user",
     "output_type": "error",
     "traceback": [
      "\u001b[1;31m---------------------------------------------------------------------------\u001b[0m",
      "\u001b[1;31mKeyboardInterrupt\u001b[0m                         Traceback (most recent call last)",
      "Cell \u001b[1;32mIn[12], line 2\u001b[0m\n\u001b[0;32m      1\u001b[0m \u001b[38;5;66;03m# download all signals at once\u001b[39;00m\n\u001b[1;32m----> 2\u001b[0m allsignal \u001b[38;5;241m=\u001b[39m openap\u001b[38;5;241m.\u001b[39mdl_all_signals(\u001b[38;5;124m'\u001b[39m\u001b[38;5;124mpandas\u001b[39m\u001b[38;5;124m'\u001b[39m)\n",
      "File \u001b[1;32mD:\\FIN377\\TheAsians---Open-Asset-Pricing\\openassetpricing\\openap_download.py:332\u001b[0m, in \u001b[0;36mOpenAP.dl_all_signals\u001b[1;34m(self, df_backend, predictor)\u001b[0m\n\u001b[0;32m    330\u001b[0m \u001b[38;5;28;01mif\u001b[39;00m \u001b[38;5;28mself\u001b[39m\u001b[38;5;241m.\u001b[39murl:\n\u001b[0;32m    331\u001b[0m     start_time \u001b[38;5;241m=\u001b[39m time\u001b[38;5;241m.\u001b[39mtime()\n\u001b[1;32m--> 332\u001b[0m     df \u001b[38;5;241m=\u001b[39m \u001b[38;5;28mself\u001b[39m\u001b[38;5;241m.\u001b[39m_dl_signal(df_backend, predictor)\n\u001b[0;32m    333\u001b[0m     end_time \u001b[38;5;241m=\u001b[39m time\u001b[38;5;241m.\u001b[39mtime()\n\u001b[0;32m    334\u001b[0m     time_used \u001b[38;5;241m=\u001b[39m end_time \u001b[38;5;241m-\u001b[39m start_time\n",
      "File \u001b[1;32mD:\\FIN377\\TheAsians---Open-Asset-Pricing\\openassetpricing\\openap_download.py:175\u001b[0m, in \u001b[0;36mOpenAP._dl_signal\u001b[1;34m(self, df_backend, predictor)\u001b[0m\n\u001b[0;32m    173\u001b[0m \u001b[38;5;28;01mdef\u001b[39;00m \u001b[38;5;21m_dl_signal\u001b[39m(\u001b[38;5;28mself\u001b[39m, df_backend, predictor\u001b[38;5;241m=\u001b[39m\u001b[38;5;28;01mNone\u001b[39;00m):\n\u001b[0;32m    174\u001b[0m     \u001b[38;5;28;01mif\u001b[39;00m \u001b[38;5;129;01mnot\u001b[39;00m predictor:\n\u001b[1;32m--> 175\u001b[0m         temp \u001b[38;5;241m=\u001b[39m \u001b[38;5;28mself\u001b[39m\u001b[38;5;241m.\u001b[39m_dl_signal_crsp3()\n\u001b[0;32m    176\u001b[0m         zip_file \u001b[38;5;241m=\u001b[39m \u001b[38;5;28mself\u001b[39m\u001b[38;5;241m.\u001b[39m_zip_source(\u001b[38;5;28mself\u001b[39m\u001b[38;5;241m.\u001b[39murl)\n\u001b[0;32m    177\u001b[0m         df \u001b[38;5;241m=\u001b[39m (\n\u001b[0;32m    178\u001b[0m             pl\u001b[38;5;241m.\u001b[39mread_csv(\n\u001b[0;32m    179\u001b[0m                 zip_file\u001b[38;5;241m.\u001b[39mread(zip_file\u001b[38;5;241m.\u001b[39mfilelist[\u001b[38;5;241m0\u001b[39m]), infer_schema_length\u001b[38;5;241m=\u001b[39m\u001b[38;5;241m0\u001b[39m)\n\u001b[1;32m   (...)\u001b[0m\n\u001b[0;32m    183\u001b[0m             \u001b[38;5;241m.\u001b[39mjoin(temp, how\u001b[38;5;241m=\u001b[39m\u001b[38;5;124m'\u001b[39m\u001b[38;5;124mleft\u001b[39m\u001b[38;5;124m'\u001b[39m, on\u001b[38;5;241m=\u001b[39m[\u001b[38;5;124m'\u001b[39m\u001b[38;5;124mpermno\u001b[39m\u001b[38;5;124m'\u001b[39m, \u001b[38;5;124m'\u001b[39m\u001b[38;5;124myyyymm\u001b[39m\u001b[38;5;124m'\u001b[39m])\n\u001b[0;32m    184\u001b[0m         )\n",
      "File \u001b[1;32mD:\\FIN377\\TheAsians---Open-Asset-Pricing\\openassetpricing\\openap_download.py:143\u001b[0m, in \u001b[0;36mOpenAP._dl_signal_crsp3\u001b[1;34m(self)\u001b[0m\n\u001b[0;32m    142\u001b[0m \u001b[38;5;28;01mdef\u001b[39;00m \u001b[38;5;21m_dl_signal_crsp3\u001b[39m(\u001b[38;5;28mself\u001b[39m):\n\u001b[1;32m--> 143\u001b[0m     conn \u001b[38;5;241m=\u001b[39m wrds\u001b[38;5;241m.\u001b[39mConnection()\n\u001b[0;32m    145\u001b[0m     df \u001b[38;5;241m=\u001b[39m conn\u001b[38;5;241m.\u001b[39mraw_sql(\n\u001b[0;32m    146\u001b[0m \u001b[38;5;250m        \u001b[39m\u001b[38;5;124;03m\"\"\"\u001b[39;00m\n\u001b[0;32m    147\u001b[0m \u001b[38;5;124;03m        select permno, date, prc, ret, shrout\u001b[39;00m\n\u001b[0;32m    148\u001b[0m \u001b[38;5;124;03m        from crsp.msf\u001b[39;00m\n\u001b[0;32m    149\u001b[0m \u001b[38;5;124;03m        \"\"\"\u001b[39;00m, date_cols\u001b[38;5;241m=\u001b[39m[\u001b[38;5;124m'\u001b[39m\u001b[38;5;124mdate\u001b[39m\u001b[38;5;124m'\u001b[39m]\n\u001b[0;32m    150\u001b[0m     )\n\u001b[0;32m    152\u001b[0m     \u001b[38;5;66;03m# They are signed\u001b[39;00m\n",
      "File \u001b[1;32m~\\anaconda3\\Lib\\site-packages\\wrds\\sql.py:75\u001b[0m, in \u001b[0;36mConnection.__init__\u001b[1;34m(self, autoconnect, verbose, **kwargs)\u001b[0m\n\u001b[0;32m     72\u001b[0m \u001b[38;5;28mself\u001b[39m\u001b[38;5;241m.\u001b[39m_connect_args \u001b[38;5;241m=\u001b[39m kwargs\u001b[38;5;241m.\u001b[39mget(\u001b[38;5;124m\"\u001b[39m\u001b[38;5;124mwrds_connect_args\u001b[39m\u001b[38;5;124m\"\u001b[39m, WRDS_CONNECT_ARGS)\n\u001b[0;32m     74\u001b[0m \u001b[38;5;28;01mif\u001b[39;00m autoconnect:\n\u001b[1;32m---> 75\u001b[0m     \u001b[38;5;28mself\u001b[39m\u001b[38;5;241m.\u001b[39mconnect()\n\u001b[0;32m     76\u001b[0m     \u001b[38;5;28mself\u001b[39m\u001b[38;5;241m.\u001b[39mload_library_list()\n",
      "File \u001b[1;32m~\\anaconda3\\Lib\\site-packages\\wrds\\sql.py:114\u001b[0m, in \u001b[0;36mConnection.connect\u001b[1;34m(self)\u001b[0m\n\u001b[0;32m    110\u001b[0m     \u001b[38;5;28mself\u001b[39m\u001b[38;5;241m.\u001b[39m__make_sa_engine_conn()\n\u001b[0;32m    112\u001b[0m \u001b[38;5;28;01mif\u001b[39;00m (\u001b[38;5;28mself\u001b[39m\u001b[38;5;241m.\u001b[39mengine \u001b[38;5;129;01mis\u001b[39;00m \u001b[38;5;28;01mNone\u001b[39;00m):\n\u001b[0;32m    113\u001b[0m     \u001b[38;5;66;03m# Use explicit username and password\u001b[39;00m\n\u001b[1;32m--> 114\u001b[0m     \u001b[38;5;28mself\u001b[39m\u001b[38;5;241m.\u001b[39m_username, \u001b[38;5;28mself\u001b[39m\u001b[38;5;241m.\u001b[39m_password \u001b[38;5;241m=\u001b[39m \u001b[38;5;28mself\u001b[39m\u001b[38;5;241m.\u001b[39m__get_user_credentials()\n\u001b[0;32m    115\u001b[0m     \u001b[38;5;66;03m# Last attempt, raise error if Exception encountered\u001b[39;00m\n\u001b[0;32m    116\u001b[0m     \u001b[38;5;28mself\u001b[39m\u001b[38;5;241m.\u001b[39m__make_sa_engine_conn(raise_err\u001b[38;5;241m=\u001b[39m\u001b[38;5;28;01mTrue\u001b[39;00m)\n",
      "File \u001b[1;32m~\\anaconda3\\Lib\\site-packages\\wrds\\sql.py:215\u001b[0m, in \u001b[0;36mConnection.__get_user_credentials\u001b[1;34m(self)\u001b[0m\n\u001b[0;32m    213\u001b[0m \u001b[38;5;28;01melse\u001b[39;00m:\n\u001b[0;32m    214\u001b[0m     uname \u001b[38;5;241m=\u001b[39m getpass\u001b[38;5;241m.\u001b[39mgetuser()\n\u001b[1;32m--> 215\u001b[0m username \u001b[38;5;241m=\u001b[39m \u001b[38;5;28minput\u001b[39m(\u001b[38;5;124m\"\u001b[39m\u001b[38;5;124mEnter your WRDS username [\u001b[39m\u001b[38;5;132;01m{}\u001b[39;00m\u001b[38;5;124m]:\u001b[39m\u001b[38;5;124m\"\u001b[39m\u001b[38;5;241m.\u001b[39mformat(uname))\n\u001b[0;32m    216\u001b[0m \u001b[38;5;28;01mif\u001b[39;00m \u001b[38;5;129;01mnot\u001b[39;00m username:\n\u001b[0;32m    217\u001b[0m     username \u001b[38;5;241m=\u001b[39m uname\n",
      "File \u001b[1;32m~\\anaconda3\\Lib\\site-packages\\ipykernel\\kernelbase.py:1282\u001b[0m, in \u001b[0;36mKernel.raw_input\u001b[1;34m(self, prompt)\u001b[0m\n\u001b[0;32m   1280\u001b[0m     msg \u001b[38;5;241m=\u001b[39m \u001b[38;5;124m\"\u001b[39m\u001b[38;5;124mraw_input was called, but this frontend does not support input requests.\u001b[39m\u001b[38;5;124m\"\u001b[39m\n\u001b[0;32m   1281\u001b[0m     \u001b[38;5;28;01mraise\u001b[39;00m StdinNotImplementedError(msg)\n\u001b[1;32m-> 1282\u001b[0m \u001b[38;5;28;01mreturn\u001b[39;00m \u001b[38;5;28mself\u001b[39m\u001b[38;5;241m.\u001b[39m_input_request(\n\u001b[0;32m   1283\u001b[0m     \u001b[38;5;28mstr\u001b[39m(prompt),\n\u001b[0;32m   1284\u001b[0m     \u001b[38;5;28mself\u001b[39m\u001b[38;5;241m.\u001b[39m_parent_ident[\u001b[38;5;124m\"\u001b[39m\u001b[38;5;124mshell\u001b[39m\u001b[38;5;124m\"\u001b[39m],\n\u001b[0;32m   1285\u001b[0m     \u001b[38;5;28mself\u001b[39m\u001b[38;5;241m.\u001b[39mget_parent(\u001b[38;5;124m\"\u001b[39m\u001b[38;5;124mshell\u001b[39m\u001b[38;5;124m\"\u001b[39m),\n\u001b[0;32m   1286\u001b[0m     password\u001b[38;5;241m=\u001b[39m\u001b[38;5;28;01mFalse\u001b[39;00m,\n\u001b[0;32m   1287\u001b[0m )\n",
      "File \u001b[1;32m~\\anaconda3\\Lib\\site-packages\\ipykernel\\kernelbase.py:1325\u001b[0m, in \u001b[0;36mKernel._input_request\u001b[1;34m(self, prompt, ident, parent, password)\u001b[0m\n\u001b[0;32m   1322\u001b[0m \u001b[38;5;28;01mexcept\u001b[39;00m \u001b[38;5;167;01mKeyboardInterrupt\u001b[39;00m:\n\u001b[0;32m   1323\u001b[0m     \u001b[38;5;66;03m# re-raise KeyboardInterrupt, to truncate traceback\u001b[39;00m\n\u001b[0;32m   1324\u001b[0m     msg \u001b[38;5;241m=\u001b[39m \u001b[38;5;124m\"\u001b[39m\u001b[38;5;124mInterrupted by user\u001b[39m\u001b[38;5;124m\"\u001b[39m\n\u001b[1;32m-> 1325\u001b[0m     \u001b[38;5;28;01mraise\u001b[39;00m \u001b[38;5;167;01mKeyboardInterrupt\u001b[39;00m(msg) \u001b[38;5;28;01mfrom\u001b[39;00m \u001b[38;5;28;01mNone\u001b[39;00m\n\u001b[0;32m   1326\u001b[0m \u001b[38;5;28;01mexcept\u001b[39;00m \u001b[38;5;167;01mException\u001b[39;00m:\n\u001b[0;32m   1327\u001b[0m     \u001b[38;5;28mself\u001b[39m\u001b[38;5;241m.\u001b[39mlog\u001b[38;5;241m.\u001b[39mwarning(\u001b[38;5;124m\"\u001b[39m\u001b[38;5;124mInvalid Message:\u001b[39m\u001b[38;5;124m\"\u001b[39m, exc_info\u001b[38;5;241m=\u001b[39m\u001b[38;5;28;01mTrue\u001b[39;00m)\n",
      "\u001b[1;31mKeyboardInterrupt\u001b[0m: Interrupted by user"
     ]
    }
   ],
   "source": [
    "# download all signals at once\n",
    "allsignal = openap.dl_all_signals('pandas')"
   ]
  },
  {
   "cell_type": "code",
   "execution_count": null,
   "metadata": {},
   "outputs": [],
   "source": [
    "# show first few rows\n",
    "allsignal.head()"
   ]
  },
  {
   "cell_type": "markdown",
   "metadata": {},
   "source": [
    "One thing that pops out from downloading all signals is that you see a lot of missing values. This is not usually an issue with single predictor studies, as you can just drop the missing values and study the stocks that have the signal data. \n",
    "\n",
    "But when looking at many signals, dropping stocks missing any signal means dropping the vast majority of stocks. See [Chen and McCoy (2024)](https://arxiv.org/pdf/2207.13071) and cites therein for how to handle this."
   ]
  }
 ],
 "metadata": {
  "kernelspec": {
   "display_name": "Python [conda env:base] *",
   "language": "python",
   "name": "conda-base-py"
  },
  "language_info": {
   "codemirror_mode": {
    "name": "ipython",
    "version": 3
   },
   "file_extension": ".py",
   "mimetype": "text/x-python",
   "name": "python",
   "nbconvert_exporter": "python",
   "pygments_lexer": "ipython3",
   "version": "3.12.7"
  }
 },
 "nbformat": 4,
 "nbformat_minor": 4
}
